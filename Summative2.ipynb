{
 "cells": [
  {
   "cell_type": "markdown",
   "metadata": {},
   "source": [
    "# Q1"
   ]
  },
  {
   "cell_type": "code",
   "execution_count": 42,
   "metadata": {},
   "outputs": [],
   "source": [
    "## Load dataset \n",
    "\n",
    "from sklearn import datasets\n",
    "import matplotlib.pyplot as plt\n",
    "import numpy as np \n",
    "import pandas as pd \n",
    "breast_cancer_data = datasets.load_breast_cancer()\n",
    "df = breast_cancer_data.data\n",
    "\n",
    "labels = breast_cancer_data.target"
   ]
  },
  {
   "cell_type": "code",
   "execution_count": 43,
   "metadata": {},
   "outputs": [],
   "source": [
    "# Reshaping labels to append to dataframe \n",
    "\n",
    "labels = np.reshape(labels,(569,1))"
   ]
  },
  {
   "cell_type": "code",
   "execution_count": 44,
   "metadata": {},
   "outputs": [],
   "source": [
    "breast_cancer_df = np.concatenate([df, labels], axis=1)"
   ]
  },
  {
   "cell_type": "code",
   "execution_count": 45,
   "metadata": {},
   "outputs": [],
   "source": [
    "# converting to dataframe \n",
    "\n",
    "breast_cancer_df = pd.DataFrame(breast_cancer_df)"
   ]
  },
  {
   "cell_type": "code",
   "execution_count": 46,
   "metadata": {
    "scrolled": true
   },
   "outputs": [],
   "source": [
    "features = breast_cancer_data.feature_names"
   ]
  },
  {
   "cell_type": "code",
   "execution_count": 47,
   "metadata": {},
   "outputs": [],
   "source": [
    "# Adding label column name\n",
    "\n",
    "features_labels = np.append(features, \"label\")\n",
    "\n",
    "#Adding the labels to the dataframe columns \n",
    "breast_cancer_df.columns = features_labels"
   ]
  },
  {
   "cell_type": "code",
   "execution_count": 58,
   "metadata": {},
   "outputs": [],
   "source": [
    "#Separate features and target variables\n",
    "X = breast_cancer_df.loc[:, features].values\n",
    "y = breast_cancer_df.loc[:, 'label'].values\n",
    "\n",
    "#Normalising data using StandardScaler\n",
    "from sklearn.preprocessing import StandardScaler\n",
    "#x = breast_cancer_df.loc[:, features].values\n",
    "#x = StandardScaler().fit_transform(x)"
   ]
  },
  {
   "cell_type": "code",
   "execution_count": 84,
   "metadata": {},
   "outputs": [],
   "source": [
    "#3 Splitting the X and Y into the\n",
    "# Training set and Testing set\n",
    "from sklearn.model_selection import train_test_split\n",
    "X_train, X_test, y_train, y_test = train_test_split(X, y, test_size = 0.2, \n",
    "random_state = 0)"
   ]
  },
  {
   "cell_type": "code",
   "execution_count": 85,
   "metadata": {},
   "outputs": [],
   "source": [
    "#4 performing preprocessing part\n",
    "from sklearn.preprocessing import StandardScaler\n",
    "sc = StandardScaler()\n",
    "X_train = sc.fit_transform(X_train)\n",
    "X_test = sc.transform(X_test)\n"
   ]
  },
  {
   "cell_type": "code",
   "execution_count": 77,
   "metadata": {},
   "outputs": [],
   "source": [
    "#5 Applying PCA function on training\n",
    "# and testing set of 2 component\n",
    "from sklearn.decomposition import PCA\n",
    "pca = PCA(n_components = 2)\n",
    "X_train = pca.fit_transform(X_train)\n",
    "X_test = pca.transform(X_test)\n",
    "explained_variance = pca.explained_variance_ratio_"
   ]
  },
  {
   "cell_type": "code",
   "execution_count": 80,
   "metadata": {},
   "outputs": [],
   "source": [
    "# Saving to new dataframe\n",
    "\n",
    "df_pca2 = pd.DataFrame(X_train, columns = ['PC1', 'PC2'])\n",
    "\n",
    "# to csv file \n",
    "df_pca2.to_csv(\"pca_2Components.csv\", index=False)"
   ]
  },
  {
   "cell_type": "code",
   "execution_count": 79,
   "metadata": {},
   "outputs": [
    {
     "data": {
      "text/html": [
       "<div>\n",
       "<style scoped>\n",
       "    .dataframe tbody tr th:only-of-type {\n",
       "        vertical-align: middle;\n",
       "    }\n",
       "\n",
       "    .dataframe tbody tr th {\n",
       "        vertical-align: top;\n",
       "    }\n",
       "\n",
       "    .dataframe thead th {\n",
       "        text-align: right;\n",
       "    }\n",
       "</style>\n",
       "<table border=\"1\" class=\"dataframe\">\n",
       "  <thead>\n",
       "    <tr style=\"text-align: right;\">\n",
       "      <th></th>\n",
       "      <th>PC1</th>\n",
       "      <th>PC2</th>\n",
       "    </tr>\n",
       "  </thead>\n",
       "  <tbody>\n",
       "    <tr>\n",
       "      <th>0</th>\n",
       "      <td>-3.039161</td>\n",
       "      <td>1.106670</td>\n",
       "    </tr>\n",
       "    <tr>\n",
       "      <th>1</th>\n",
       "      <td>-2.282314</td>\n",
       "      <td>0.400452</td>\n",
       "    </tr>\n",
       "    <tr>\n",
       "      <th>2</th>\n",
       "      <td>-1.084095</td>\n",
       "      <td>-1.995444</td>\n",
       "    </tr>\n",
       "    <tr>\n",
       "      <th>3</th>\n",
       "      <td>-2.561100</td>\n",
       "      <td>0.179338</td>\n",
       "    </tr>\n",
       "    <tr>\n",
       "      <th>4</th>\n",
       "      <td>-2.848305</td>\n",
       "      <td>-1.017616</td>\n",
       "    </tr>\n",
       "    <tr>\n",
       "      <th>...</th>\n",
       "      <td>...</td>\n",
       "      <td>...</td>\n",
       "    </tr>\n",
       "    <tr>\n",
       "      <th>450</th>\n",
       "      <td>0.081023</td>\n",
       "      <td>-3.420671</td>\n",
       "    </tr>\n",
       "    <tr>\n",
       "      <th>451</th>\n",
       "      <td>6.513019</td>\n",
       "      <td>7.996828</td>\n",
       "    </tr>\n",
       "    <tr>\n",
       "      <th>452</th>\n",
       "      <td>-3.170461</td>\n",
       "      <td>0.516009</td>\n",
       "    </tr>\n",
       "    <tr>\n",
       "      <th>453</th>\n",
       "      <td>-5.611046</td>\n",
       "      <td>-0.538805</td>\n",
       "    </tr>\n",
       "    <tr>\n",
       "      <th>454</th>\n",
       "      <td>-1.016371</td>\n",
       "      <td>1.395352</td>\n",
       "    </tr>\n",
       "  </tbody>\n",
       "</table>\n",
       "<p>455 rows × 2 columns</p>\n",
       "</div>"
      ],
      "text/plain": [
       "          PC1       PC2\n",
       "0   -3.039161  1.106670\n",
       "1   -2.282314  0.400452\n",
       "2   -1.084095 -1.995444\n",
       "3   -2.561100  0.179338\n",
       "4   -2.848305 -1.017616\n",
       "..        ...       ...\n",
       "450  0.081023 -3.420671\n",
       "451  6.513019  7.996828\n",
       "452 -3.170461  0.516009\n",
       "453 -5.611046 -0.538805\n",
       "454 -1.016371  1.395352\n",
       "\n",
       "[455 rows x 2 columns]"
      ]
     },
     "execution_count": 79,
     "metadata": {},
     "output_type": "execute_result"
    }
   ],
   "source": [
    "df_pca2"
   ]
  },
  {
   "cell_type": "code",
   "execution_count": 52,
   "metadata": {},
   "outputs": [
    {
     "name": "stderr",
     "output_type": "stream",
     "text": [
      "*c* argument looks like a single numeric RGB or RGBA sequence, which should be avoided as value-mapping will have precedence in case its length matches with *x* & *y*.  Please use the *color* keyword-argument or provide a 2D array with a single row if you intend to specify the same RGB or RGBA value for all points.\n",
      "*c* argument looks like a single numeric RGB or RGBA sequence, which should be avoided as value-mapping will have precedence in case its length matches with *x* & *y*.  Please use the *color* keyword-argument or provide a 2D array with a single row if you intend to specify the same RGB or RGBA value for all points.\n"
     ]
    },
    {
     "data": {
      "image/png": "[encoded data removed]",
      "text/plain": [
       "<Figure size 432x288 with 1 Axes>"
      ]
     },
     "metadata": {},
     "output_type": "display_data"
    },
    {
     "data": {
      "image/png": "[encoded data removed]",
      "text/plain": [
       "<Figure size 432x288 with 1 Axes>"
      ]
     },
     "metadata": {},
     "output_type": "display_data"
    }
   ],
   "source": [
    "#6 Fitting Logistic Regression To the training set\n",
    "from sklearn.linear_model import LogisticRegression\n",
    "classifier = LogisticRegression(random_state = 0)\n",
    "classifier.fit(X_train, y_train)\n",
    "\n",
    "#7 Predicting the test set result using\n",
    "# predict function under LogisticRegression\n",
    "y_pred = classifier.predict(X_test)\n",
    "\n",
    "#8 making confusion matrix between\n",
    "# test set of Y and predicted value.\n",
    "from sklearn.metrics import confusion_matrix\n",
    "cm = confusion_matrix(y_test, y_pred)\n",
    "\n",
    "#9 Predicting the training set\n",
    "# result through scatter plot\n",
    "from matplotlib.colors import ListedColormap\n",
    "X_set, y_set = X_train, y_train\n",
    "X1, X2 = np.meshgrid(np.arange(start = X_set[:, 0].min() - 1,\n",
    "                               stop = X_set[:, 0].max() + 1, step = 0.01),\n",
    "                     np.arange(start = X_set[:, 1].min() - 1,\n",
    "                               stop = X_set[:, 1].max() + 1, step = 0.01))\n",
    "\n",
    "plt.contourf(X1, X2, classifier.predict(np.array([X1.ravel(),\n",
    "                                                  X2.ravel()]).T).reshape(X1.shape), alpha = 0.75,\n",
    "             cmap = ListedColormap(('yellow', 'white', 'aquamarine')))\n",
    "\n",
    "plt.xlim(X1.min(), X1.max())\n",
    "plt.ylim(X2.min(), X2.max())\n",
    "\n",
    "for i, j in enumerate(np.unique(y_set)):\n",
    "    plt.scatter(X_set[y_set == j, 0], X_set[y_set == j, 1],\n",
    "                c = ListedColormap(('red', 'green', 'blue'))(i), label = j)\n",
    "    \n",
    "plt.title('Logistic Regression (Training set)')\n",
    "plt.xlabel('PC1') # for Xlabel\n",
    "plt.ylabel('PC2') # for Ylabel\n",
    "plt.legend() # to show legend\n",
    "# show scatter plot\n",
    "plt.show()\n",
    "\n",
    "\n",
    "#10 Visualising the Test set results through scatter plot\n",
    "from matplotlib.colors import ListedColormap\n",
    "X_set, y_set = X_test, y_test\n",
    "X1, X2 = np.meshgrid(np.arange(start = X_set[:, 0].min() - 1,stop = X_set[:, 0].max() + 1, step = 0.01),\n",
    "                     np.arange(start = X_set[:, 1].min() - 1,\n",
    "                               stop = X_set[:, 1].max() + 1, step = 0.01))\n",
    "\n",
    "plt.contourf(X1, X2, classifier.predict(np.array([X1.ravel(),\n",
    "                                                  X2.ravel()]).T).reshape(X1.shape), alpha = 0.75,\n",
    "             cmap = ListedColormap(('yellow', 'white', 'aquamarine')))\n",
    "plt.xlim(X1.min(), X1.max())\n",
    "plt.ylim(X2.min(), X2.max())\n",
    "\n",
    "for i, j in enumerate(np.unique(y_set)):\n",
    "    plt.scatter(X_set[y_set == j, 0], X_set[y_set == j, 1],\n",
    "                color = ListedColormap(('red', 'green', 'blue'))(i), label = j)\n",
    "    \n",
    "# title for scatter plot\n",
    "plt.title('Logistic Regression (Test set)')\n",
    "plt.xlabel('PC1') # for Xlabel\n",
    "plt.ylabel('PC2') # for Ylabel\n",
    "plt.legend()\n",
    "\n",
    "# show scatter plot\n",
    "plt.show()"
   ]
  },
  {
   "cell_type": "code",
   "execution_count": 86,
   "metadata": {},
   "outputs": [],
   "source": [
    "# Using 3 compenents\n",
    "\n",
    "pca = PCA(n_components = 3)\n",
    "X_train = pca.fit_transform(X_train)\n",
    "X_test = pca.transform(X_test)\n",
    "explained_variance = pca.explained_variance_ratio_"
   ]
  },
  {
   "cell_type": "code",
   "execution_count": 88,
   "metadata": {},
   "outputs": [],
   "source": [
    "# creating dataframe and to csv file \n",
    "\n",
    "df_pca3 = pd.DataFrame(X_train, columns = ['PC1', 'PC2', 'PC3'])\n",
    "\n",
    "# to csv file \n",
    "df_pca3.to_csv(\"pca_3Components.csv\", index=False)"
   ]
  },
  {
   "cell_type": "code",
   "execution_count": 89,
   "metadata": {
    "scrolled": false
   },
   "outputs": [
    {
     "data": {
      "text/html": [
       "<div>\n",
       "<style scoped>\n",
       "    .dataframe tbody tr th:only-of-type {\n",
       "        vertical-align: middle;\n",
       "    }\n",
       "\n",
       "    .dataframe tbody tr th {\n",
       "        vertical-align: top;\n",
       "    }\n",
       "\n",
       "    .dataframe thead th {\n",
       "        text-align: right;\n",
       "    }\n",
       "</style>\n",
       "<table border=\"1\" class=\"dataframe\">\n",
       "  <thead>\n",
       "    <tr style=\"text-align: right;\">\n",
       "      <th></th>\n",
       "      <th>PC1</th>\n",
       "      <th>PC2</th>\n",
       "      <th>PC3</th>\n",
       "    </tr>\n",
       "  </thead>\n",
       "  <tbody>\n",
       "    <tr>\n",
       "      <th>0</th>\n",
       "      <td>-3.039161</td>\n",
       "      <td>1.106670</td>\n",
       "      <td>0.408520</td>\n",
       "    </tr>\n",
       "    <tr>\n",
       "      <th>1</th>\n",
       "      <td>-2.282314</td>\n",
       "      <td>0.400452</td>\n",
       "      <td>0.263275</td>\n",
       "    </tr>\n",
       "    <tr>\n",
       "      <th>2</th>\n",
       "      <td>-1.084095</td>\n",
       "      <td>-1.995444</td>\n",
       "      <td>-1.193536</td>\n",
       "    </tr>\n",
       "    <tr>\n",
       "      <th>3</th>\n",
       "      <td>-2.561100</td>\n",
       "      <td>0.179338</td>\n",
       "      <td>1.085279</td>\n",
       "    </tr>\n",
       "    <tr>\n",
       "      <th>4</th>\n",
       "      <td>-2.848305</td>\n",
       "      <td>-1.017616</td>\n",
       "      <td>-0.847290</td>\n",
       "    </tr>\n",
       "    <tr>\n",
       "      <th>...</th>\n",
       "      <td>...</td>\n",
       "      <td>...</td>\n",
       "      <td>...</td>\n",
       "    </tr>\n",
       "    <tr>\n",
       "      <th>450</th>\n",
       "      <td>0.081023</td>\n",
       "      <td>-3.420671</td>\n",
       "      <td>0.346485</td>\n",
       "    </tr>\n",
       "    <tr>\n",
       "      <th>451</th>\n",
       "      <td>6.513019</td>\n",
       "      <td>7.996828</td>\n",
       "      <td>-4.505699</td>\n",
       "    </tr>\n",
       "    <tr>\n",
       "      <th>452</th>\n",
       "      <td>-3.170461</td>\n",
       "      <td>0.516009</td>\n",
       "      <td>0.523623</td>\n",
       "    </tr>\n",
       "    <tr>\n",
       "      <th>453</th>\n",
       "      <td>-5.611046</td>\n",
       "      <td>-0.538805</td>\n",
       "      <td>4.127448</td>\n",
       "    </tr>\n",
       "    <tr>\n",
       "      <th>454</th>\n",
       "      <td>-1.016371</td>\n",
       "      <td>1.395352</td>\n",
       "      <td>1.339224</td>\n",
       "    </tr>\n",
       "  </tbody>\n",
       "</table>\n",
       "<p>455 rows × 3 columns</p>\n",
       "</div>"
      ],
      "text/plain": [
       "          PC1       PC2       PC3\n",
       "0   -3.039161  1.106670  0.408520\n",
       "1   -2.282314  0.400452  0.263275\n",
       "2   -1.084095 -1.995444 -1.193536\n",
       "3   -2.561100  0.179338  1.085279\n",
       "4   -2.848305 -1.017616 -0.847290\n",
       "..        ...       ...       ...\n",
       "450  0.081023 -3.420671  0.346485\n",
       "451  6.513019  7.996828 -4.505699\n",
       "452 -3.170461  0.516009  0.523623\n",
       "453 -5.611046 -0.538805  4.127448\n",
       "454 -1.016371  1.395352  1.339224\n",
       "\n",
       "[455 rows x 3 columns]"
      ]
     },
     "execution_count": 89,
     "metadata": {},
     "output_type": "execute_result"
    }
   ],
   "source": [
    "df_pca3"
   ]
  },
  {
   "cell_type": "markdown",
   "metadata": {},
   "source": [
    "The main components derived from a PCA analysis can be applied in a variety of ways in the future. Among the frequent uses are:\n",
    "\n",
    "Data visualisation: It is frequently possible to produce more comprehensible visualisations of the data by condensing the dimensionality of the data to a small number of primary components. Given that it can be challenging to view data in more than three dimensions, this can be very helpful when working with high-dimensional datasets.\n",
    "\n",
    "Data compression: Since the principle components are ranked according to how much variance in the data they explain, it is frequently possible to drastically reduce the size of the dataset by keeping only the most crucial elements. This may help with more effective data transmission or storage.\n",
    "\n",
    "Feature selection: It can be advantageous to choose a subset of the most crucial features to include in the model while developing machine learning algorithms. The most crucial features in the data can be found by using the principle components that come from a PCA analysis.\n",
    "Noise reduction: Projecting the data onto the major components can frequently filter out noise and increase the signal-to-noise ratio in the data since they are orthogonal to one another and capture the most crucial elements in the data.\n"
   ]
  },
  {
   "cell_type": "code",
   "execution_count": 65,
   "metadata": {},
   "outputs": [
    {
     "data": {
      "text/plain": [
       "<mpl_toolkits.mplot3d.art3d.Path3DCollection at 0x16a06923fd0>"
      ]
     },
     "execution_count": 65,
     "metadata": {},
     "output_type": "execute_result"
    },
    {
     "data": {
      "image/png": "[encoded data removed]",
      "text/plain": [
       "<Figure size 432x288 with 2 Axes>"
      ]
     },
     "metadata": {},
     "output_type": "display_data"
    }
   ],
   "source": [
    "# plotting 3 componnets\n",
    "\n",
    "from mpl_toolkits.mplot3d import Axes3D\n",
    "\n",
    "fig =plt.figure()\n",
    "plt.title(\"Training set\")\n",
    "ax = fig.add_subplot(111, projection=\"3d\")\n",
    "ax.scatter(X_train[:,0], X_train[:,1], X_train[:,2], c=y_train)"
   ]
  },
  {
   "cell_type": "code",
   "execution_count": 64,
   "metadata": {
    "scrolled": true
   },
   "outputs": [
    {
     "data": {
      "text/plain": [
       "<mpl_toolkits.mplot3d.art3d.Path3DCollection at 0x16a0688a770>"
      ]
     },
     "execution_count": 64,
     "metadata": {},
     "output_type": "execute_result"
    },
    {
     "data": {
      "image/png": "[encoded data removed]",
      "text/plain": [
       "<Figure size 432x288 with 2 Axes>"
      ]
     },
     "metadata": {},
     "output_type": "display_data"
    }
   ],
   "source": [
    "fig =plt.figure()\n",
    "plt.title(\"Test set\")\n",
    "ax = fig.add_subplot(111, projection=\"3d\")\n",
    "ax.scatter(X_test[:,0], X_test[:,1], X_test[:,2], c=y_test)"
   ]
  },
  {
   "cell_type": "code",
   "execution_count": 71,
   "metadata": {},
   "outputs": [],
   "source": [
    "# 95% component \n",
    "\n",
    "pca = PCA(n_components = 0.95)\n",
    "X_train = pca.fit_transform(X_train)\n",
    "X_test = pca.transform(X_test)\n",
    "explained_variance = pca.explained_variance_ratio_\n",
    "\n",
    "\n"
   ]
  },
  {
   "cell_type": "code",
   "execution_count": 72,
   "metadata": {},
   "outputs": [
    {
     "data": {
      "text/plain": [
       "3"
      ]
     },
     "execution_count": 72,
     "metadata": {},
     "output_type": "execute_result"
    }
   ],
   "source": [
    "pca.n_components_"
   ]
  },
  {
   "cell_type": "markdown",
   "metadata": {},
   "source": [
    "The number of components needed to reach 95% of the explained variance is 3 which we have already plotted above"
   ]
  },
  {
   "cell_type": "markdown",
   "metadata": {},
   "source": [
    "# Q2 "
   ]
  },
  {
   "cell_type": "markdown",
   "metadata": {},
   "source": [
    "## Neural network calculations"
   ]
  },
  {
   "cell_type": "markdown",
   "metadata": {},
   "source": [
    "![1](ForwardPass_Page_1.jpg)"
   ]
  },
  {
   "cell_type": "markdown",
   "metadata": {},
   "source": [
    "![2](ForwardPass_Page_2.jpg)"
   ]
  },
  {
   "cell_type": "markdown",
   "metadata": {},
   "source": [
    "![3](ForwardPass_Page_3.jpg)"
   ]
  },
  {
   "cell_type": "markdown",
   "metadata": {},
   "source": [
    "![4](ForwardPass_Page_4.jpg)"
   ]
  },
  {
   "cell_type": "markdown",
   "metadata": {},
   "source": [
    "![5](ForwardPass_Page_5.jpg)"
   ]
  },
  {
   "cell_type": "markdown",
   "metadata": {},
   "source": [
    "![6](ForwardPass_Page_6.jpg)"
   ]
  },
  {
   "cell_type": "markdown",
   "metadata": {},
   "source": [
    "![7](ForwardPass_Page_7.jpg)"
   ]
  },
  {
   "cell_type": "markdown",
   "metadata": {},
   "source": [
    "![8](ForwardPass_Page_8.jpg)"
   ]
  },
  {
   "cell_type": "markdown",
   "metadata": {},
   "source": [
    "![9](ForwardPass_Page_9.jpg)"
   ]
  },
  {
   "cell_type": "markdown",
   "metadata": {},
   "source": [
    "## Steps to train a simple neural network"
   ]
  },
  {
   "cell_type": "markdown",
   "metadata": {},
   "source": [
    "- Collect and preprocess the data: this includes data cleansing, formatting the data to have suitable data type and splitting these data into training and test sets.\n",
    "\n",
    "- Define the model: Next, we must define the neural network architecture. This will include choosing the number of layers, the number of nodes in each layer, and the activation functions to use. Usually for classification problems the architecture is composed of : \n",
    "                - A scaling layer\n",
    "                - Tow perceptron layers\n",
    "                - A probablistic layer\n",
    "\n",
    "- Compile the model: After defining the model, you will need to compile it with a loss function, an optimizer, and any metrics that need to be tracked\n",
    "\n",
    "- Train the model: train the model on the training data. This will involve providing the model with the training data and allowing it to learn the relationships between the input features and the target variables.\n",
    "\n",
    "- Evaluate the model: After training, we need to evaluate the model's performance on the test data. This will give us a sense of how well the model is able to generalise to unseen data. For example we can switch between LogSoftMax, NLLLoss and Cross Entropy to check the difference in performance.\n",
    "\n",
    "- Fine-tune the model: Depending on the results of the evaluation, we may want to adjust the model's architecture or hyperparameters to improve its performance. This process is known as fine-tuning.\n",
    "\n",
    "- Make predictions: Finally, we can use the trained model to make predictions on new data.\n",
    "\n",
    "\n",
    "\n",
    "\n"
   ]
  },
  {
   "cell_type": "markdown",
   "metadata": {},
   "source": [
    "## Code example for train and testing a simple network\n",
    "\n",
    "`from keras.models import Sequential`  \n",
    "`from keras.layers import Dense`\n",
    "\n",
    "### define the model\n",
    "`model = Sequential()`  \n",
    "`model.add(Dense(10, input_dim=8, activation='relu'))`  \n",
    "`model.add(Dense(1, activation='sigmoid'))`  \n",
    "\n",
    "### compile the model\n",
    "`model.compile(loss='binary_crossentropy', optimizer='adam', metrics=['accuracy'])`  \n",
    "\n",
    "### fit the model to the training data\n",
    "`model.fit(X_train, y_train, epochs=10, batch_size=32)`  \n",
    "\n",
    "### evaluate the model on the test data\n",
    "`loss, accuracy = model.evaluate(X_test, y_test, batch_size=32)`  \n",
    "`print('Test loss:', loss)`  \n",
    "`print('Test accuracy:', accuracy)`  \n",
    "\n",
    "\n",
    "The input features and target variables for the training data in this example are X train and y train, while the input features and target variables for the test data are X test and y test. The model consists of two layers: an output layer with one node and a hidden layer with ten nodes. The output layer makes use of the sigmoid activation function, whereas the hidden layer makes use of the relu activation function. The binary crossentropy loss function and Adam optimizer are used in the model's construction, and it is trained using stochastic gradient descent with a batch size of 32 on the training set of data. The model is then assessed using the test data, and the accuracy and loss are printed.\n"
   ]
  },
  {
   "cell_type": "markdown",
   "metadata": {},
   "source": [
    "# Q3"
   ]
  },
  {
   "cell_type": "code",
   "execution_count": 27,
   "metadata": {},
   "outputs": [
    {
     "name": "stdout",
     "output_type": "stream",
     "text": [
      "(1797, 8, 8)\n",
      "(1797, 64)\n"
     ]
    }
   ],
   "source": [
    "from sklearn import datasets, metrics\n",
    "from sklearn.model_selection import train_test_split\n",
    "import numpy as np\n",
    "\n",
    "# Laoding the digits dataset\n",
    "digits = datasets.load_digits()\n",
    "\n",
    "print(digits.images.shape)\n",
    "print(digits.data.shape)"
   ]
  },
  {
   "cell_type": "code",
   "execution_count": 28,
   "metadata": {},
   "outputs": [
    {
     "data": {
      "text/plain": [
       "<matplotlib.image.AxesImage at 0x16a717c4430>"
      ]
     },
     "execution_count": 28,
     "metadata": {},
     "output_type": "execute_result"
    },
    {
     "data": {
      "image/png": "[encoded data removed]",
      "text/plain": [
       "<Figure size 432x288 with 1 Axes>"
      ]
     },
     "metadata": {},
     "output_type": "display_data"
    }
   ],
   "source": [
    "#Viewing the digits within the dataset.\n",
    "# The image appears to show a 4 but we can see if the model can predict this\n",
    "plt.imshow(digits.images[100], cmap=plt.cm.gray_r, interpolation='nearest')"
   ]
  },
  {
   "cell_type": "code",
   "execution_count": 13,
   "metadata": {},
   "outputs": [],
   "source": [
    "# Splitting the dataset into test and train sets\n",
    "\n",
    "X_train, X_test, y_train, y_test = train_test_split(digits.data, digits.target, random_state=42)"
   ]
  },
  {
   "cell_type": "code",
   "execution_count": 36,
   "metadata": {},
   "outputs": [
    {
     "name": "stdout",
     "output_type": "stream",
     "text": [
      "Test set accuracy: 0.52\n"
     ]
    }
   ],
   "source": [
    "# Using the Support Vector Machine (SVM) classifier to classify the digits. \n",
    "# First training the classifier on the training set then test it on the testinig set\n",
    "\n",
    "# Import the SVM classifier\n",
    "from sklearn.svm import SVC\n",
    "\n",
    "# Create an SVM classifier\n",
    "clf = SVC(gamma='auto')\n",
    "\n",
    "# Train the classifier on the training set\n",
    "clf.fit(X_train, y_train)\n",
    "\n",
    "# Test the classifier on the testing set\n",
    "accuracy = clf.score(X_test, y_test)\n",
    "\n",
    "print(\"Test set accuracy: {:.2f}\".format(accuracy))\n"
   ]
  },
  {
   "cell_type": "code",
   "execution_count": 37,
   "metadata": {
    "scrolled": true
   },
   "outputs": [
    {
     "name": "stdout",
     "output_type": "stream",
     "text": [
      "Test set accuracy: 0.98\n"
     ]
    }
   ],
   "source": [
    "## Using RandomForest classifier\n",
    "\n",
    "from sklearn.ensemble import RandomForestClassifier\n",
    "\n",
    "clf = RandomForestClassifier()\n",
    "clf.fit(X_train, y_train)\n",
    "\n",
    "accuracy = clf.score(X_test, y_test)\n",
    "print(\"Test set accuracy: {:.2f}\".format(accuracy))"
   ]
  },
  {
   "cell_type": "code",
   "execution_count": 16,
   "metadata": {},
   "outputs": [
    {
     "name": "stdout",
     "output_type": "stream",
     "text": [
      "Test set accuracy: 0.99\n"
     ]
    }
   ],
   "source": [
    "# Creating the KNN model to use with n equal to 4 (chosen at random by default)\n",
    "# General rule for default n is to use odd n if no of variables is even and vice versa. \n",
    "from sklearn.neighbors import KNeighborsClassifier\n",
    "knn = KNeighborsClassifier(n_neighbors=4)\n",
    "\n",
    "# Fitting the knn model with the feature and target data created previously\n",
    "knn.fit(X_train, np.ravel(y_train))\n",
    "\n",
    "# getting the predicition values for whole dataset using n=4 \n",
    "y_pred4 = knn.predict(X_test)\n",
    "\n",
    "# Check the accuracy score of using n=4 \n",
    "accuracy_score4 = round(metrics.accuracy_score(y_test, y_pred4), 2)\n",
    "\n",
    "print(\"Test set accuracy: {:.2f}\".format(accuracy_score4))"
   ]
  },
  {
   "cell_type": "markdown",
   "metadata": {},
   "source": [
    "We can see in these two examples that the KNN model is much superior than the SVM and RandomForest by a significant margin"
   ]
  },
  {
   "cell_type": "code",
   "execution_count": 17,
   "metadata": {},
   "outputs": [],
   "source": [
    "#Tuning the KNN model to find best k value \n",
    "\n",
    "k_range = range(3, 25)\n",
    "\n",
    "accuracy_scores = []\n",
    "\n",
    "for k in k_range:\n",
    "    knn = KNeighborsClassifier(n_neighbors = k)\n",
    "    knn.fit(X_train, np.ravel(y_train))\n",
    "    y_pred = knn.predict(X_test)\n",
    "    accuracy = metrics.accuracy_score(y_test, y_pred)\n",
    "    accuracy_scores.append(accuracy)"
   ]
  },
  {
   "cell_type": "code",
   "execution_count": 21,
   "metadata": {},
   "outputs": [
    {
     "data": {
      "image/png": "[encoded data removed]",
      "text/plain": [
       "<Figure size 432x288 with 1 Axes>"
      ]
     },
     "metadata": {},
     "output_type": "display_data"
    }
   ],
   "source": [
    "import seaborn as sns\n",
    "sns.set_style(\"white\")\n",
    "#sns.set(rc={'figure.figsize':(20, 10)})\n",
    "sns.lineplot(x=range(1, 23), y=accuracy_scores).set(title=\"Accuracy scores for each value of K\")\n",
    "\n",
    "sns.despine(top=True, right=True);"
   ]
  },
  {
   "cell_type": "code",
   "execution_count": 18,
   "metadata": {},
   "outputs": [
    {
     "name": "stdout",
     "output_type": "stream",
     "text": [
      "The best value of K seems to be 4\n"
     ]
    }
   ],
   "source": [
    "print(\"The best value of K seems to be\", accuracy_scores.index(max(accuracy_scores))+1)\n"
   ]
  },
  {
   "cell_type": "markdown",
   "metadata": {},
   "source": [
    "Given we used the value of 4 in our KNN model earlier this doesnt need to change. "
   ]
  },
  {
   "cell_type": "code",
   "execution_count": 19,
   "metadata": {},
   "outputs": [
    {
     "name": "stderr",
     "output_type": "stream",
     "text": [
      "C:\\Users\\Dylan\\AppData\\Local\\Programs\\Python\\Python310\\lib\\site-packages\\sklearn\\utils\\deprecation.py:87: FutureWarning: Function plot_confusion_matrix is deprecated; Function `plot_confusion_matrix` is deprecated in 1.0 and will be removed in 1.2. Use one of the class methods: ConfusionMatrixDisplay.from_predictions or ConfusionMatrixDisplay.from_estimator.\n",
      "  warnings.warn(msg, category=FutureWarning)\n"
     ]
    },
    {
     "data": {
      "image/png": "[encoded data removed]",
      "text/plain": [
       "<Figure size 432x288 with 2 Axes>"
      ]
     },
     "metadata": {
      "needs_background": "light"
     },
     "output_type": "display_data"
    }
   ],
   "source": [
    "# Evaluating the model \n",
    "## Running a confustion matrix on the knn model. \n",
    "\n",
    "metrics.plot_confusion_matrix(knn, X_test, y_test);\n",
    "\n",
    "CM = metrics.confusion_matrix(y_test, y_pred)"
   ]
  },
  {
   "cell_type": "markdown",
   "metadata": {},
   "source": [
    "We can see from the above confusion matrix that the digits were more or less correctly predicted with very few outliers. \n",
    "This is a model we can rely upon especially given its 99% accuracy rate. "
   ]
  },
  {
   "cell_type": "code",
   "execution_count": 25,
   "metadata": {},
   "outputs": [
    {
     "name": "stdout",
     "output_type": "stream",
     "text": [
      "Classification report for KNeighborsClassifier(n_neighbors=24):\n",
      "              precision    recall  f1-score   support\n",
      "\n",
      "           0       1.00      1.00      1.00        43\n",
      "           1       0.95      1.00      0.97        37\n",
      "           2       1.00      1.00      1.00        38\n",
      "           3       0.98      1.00      0.99        46\n",
      "           4       0.98      0.98      0.98        55\n",
      "           5       0.98      1.00      0.99        59\n",
      "           6       1.00      1.00      1.00        45\n",
      "           7       1.00      1.00      1.00        41\n",
      "           8       0.97      0.97      0.97        38\n",
      "           9       1.00      0.92      0.96        48\n",
      "\n",
      "    accuracy                           0.99       450\n",
      "   macro avg       0.99      0.99      0.99       450\n",
      "weighted avg       0.99      0.99      0.99       450\n",
      ":\n",
      "\n"
     ]
    }
   ],
   "source": [
    "# Verification of the model using a classification report \n",
    "\n",
    "print(\n",
    "    f\"Classification report for {knn}:\\n\"\n",
    "      f\"{metrics.classification_report(y_test, y_pred4)}:\\n\")"
   ]
  },
  {
   "cell_type": "markdown",
   "metadata": {},
   "source": [
    "The F1 scores for this model is optimal giving it is very close to 1. In addition to the f1 score we can see that the precision and recall scores and similar particularly for where n classifiers is 4, which is what was used in the model, this indicates that there are not so many false positives and false negatives in the model predictions"
   ]
  },
  {
   "cell_type": "markdown",
   "metadata": {},
   "source": [
    "# References\n",
    "\n",
    "Principal component analysis (2023) Wikipedia. Wikimedia Foundation. Available at: https://en.wikipedia.org/wiki/Principal_component_analysis (Accessed: January 6, 2023). \n",
    "\n",
    "2.5. decomposing signals in components (matrix factorization problems) (no date) scikit. Available at: https://scikit-learn.org/stable/modules/decomposition.html#pca (Accessed: January 6, 2023). \n",
    "\n",
    "PC \n"
   ]
  }
 ],
 "metadata": {
  "kernelspec": {
   "display_name": "Python 3",
   "language": "python",
   "name": "python3"
  },
  "language_info": {
   "codemirror_mode": {
    "name": "ipython",
    "version": 3
   },
   "file_extension": ".py",
   "mimetype": "text/x-python",
   "name": "python",
   "nbconvert_exporter": "python",
   "pygments_lexer": "ipython3",
   "version": "3.6.5"
  }
 },
 "nbformat": 4,
 "nbformat_minor": 5
}
